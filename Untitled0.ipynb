{
  "nbformat": 4,
  "nbformat_minor": 0,
  "metadata": {
    "colab": {
      "name": "Untitled0.ipynb",
      "provenance": [],
      "authorship_tag": "ABX9TyM0RKW7+qeMosD5d/zxgPgE",
      "include_colab_link": true
    },
    "kernelspec": {
      "name": "python3",
      "display_name": "Python 3"
    },
    "language_info": {
      "name": "python"
    }
  },
  "cells": [
    {
      "cell_type": "markdown",
      "metadata": {
        "id": "view-in-github",
        "colab_type": "text"
      },
      "source": [
        "<a href=\"https://colab.research.google.com/github/rohit85-cmd/LUP-Decomposition/blob/main/Untitled0.ipynb\" target=\"_parent\"><img src=\"https://colab.research.google.com/assets/colab-badge.svg\" alt=\"Open In Colab\"/></a>"
      ]
    },
    {
      "cell_type": "code",
      "execution_count": 1,
      "metadata": {
        "colab": {
          "base_uri": "https://localhost:8080/"
        },
        "id": "TzrlS2mR0-Z6",
        "outputId": "4949e2ea-c9df-4af7-fe04-badc0693bcb2"
      },
      "outputs": [
        {
          "output_type": "stream",
          "name": "stdout",
          "text": [
            "Writing input.c\n"
          ]
        }
      ],
      "source": [
        "%%writefile input.c\n",
        "//Initial code to make binary files\n",
        "#include<stdio.h>\n",
        "#include<stdlib.h>\n",
        "void main()\n",
        "{\n",
        "    FILE *input;\n",
        "    if((input = fopen(\"/content/in.dat\",\"ab+\")) == NULL)\n",
        "    {\n",
        "        printf(\"Error! opening input file\");\n",
        "        exit(1);\n",
        "    }\n",
        "    float A[3][3]= {0};\n",
        "    float B[3]= {0};\n",
        "    int i,j,n;\n",
        "    printf(\"Enter the order of square matrix: \");\n",
        "    scanf(\"%d\",&n);\n",
        "    printf(\"\\nEnter matrix element:\\n\");\n",
        "    for(i=0; i<n; i++)\n",
        "    {\n",
        "        for(j=0; j<n; j++)\n",
        "        {\n",
        "            printf(\"Enter A[%d][%d] element: \", i,j);\n",
        "            scanf(\"%f\",&A[i][j]);\n",
        "            fwrite(&A[i][j],sizeof(A[i][j]),1,input);\n",
        "        }\n",
        "    }\n",
        "    printf(\"\\nEnter the constant terms: \\n\");\n",
        "    for(i=0; i<n; i++)\n",
        "    {\n",
        "        printf(\"B[%d]: \",i);\n",
        "        scanf(\"%f\",&B[i]);\n",
        "        fwrite(&B[i],sizeof(B[i]),1,input);\n",
        "    }\n",
        "    fclose(input);\n",
        "}"
      ]
    },
    {
      "cell_type": "code",
      "source": [
        "%%shell\n",
        "gcc input.c -o infile\n",
        "./infile"
      ],
      "metadata": {
        "colab": {
          "base_uri": "https://localhost:8080/"
        },
        "id": "P6Sm0kzQ1FaR",
        "outputId": "55fa10c9-524a-4d3d-8ba8-45c3518e9510"
      },
      "execution_count": 2,
      "outputs": [
        {
          "output_type": "stream",
          "name": "stdout",
          "text": [
            "Enter the order of square matrix: 3\n",
            "\n",
            "Enter matrix element:\n",
            "Enter A[0][0] element: 12\n",
            "Enter A[0][1] element: 3\n",
            "Enter A[0][2] element: 1\n",
            "Enter A[1][0] element: 6\n",
            "Enter A[1][1] element: 45\n",
            "Enter A[1][2] element: 8\n",
            "Enter A[2][0] element: 9\n",
            "Enter A[2][1] element: 13\n",
            "Enter A[2][2] element: 10\n",
            "\n",
            "Enter the constant terms: \n",
            "B[0]: 1\n",
            "B[1]: 2\n",
            "B[2]: 3\n"
          ]
        },
        {
          "output_type": "execute_result",
          "data": {
            "text/plain": [
              ""
            ]
          },
          "metadata": {},
          "execution_count": 2
        }
      ]
    },
    {
      "cell_type": "code",
      "source": [
        "%%writefile LU_decomposition.c\n",
        "//LU Decomposition Algorithm\n",
        "#include<stdio.h>\n",
        "#include<stdlib.h>\n",
        "void main()\n",
        "{\n",
        "    FILE *input,*output;\n",
        "    if((input = fopen(\"/content/in.dat\",\"ab+\")) == NULL)\n",
        "    {\n",
        "        printf(\"Error! opening input file\");\n",
        "        exit(1);\n",
        "    }\n",
        "    if((output = fopen(\"/content/out.dat\",\"ab+\")) == NULL)\n",
        "    {\n",
        "        printf(\"Error! opening output file\");\n",
        "        exit(1);\n",
        "    }\n",
        "    float A[3][3]= {0},L[3][3]= {0}, U[3][3];\n",
        "    float B[3]= {0}, X[3]= {0},Y[3]= {0};\n",
        "    int i,j,k,n;\n",
        "    printf(\"Enter the order of square matrix: \");\n",
        "    scanf(\"%d\",&n);\n",
        "    fseek(input, 0, SEEK_SET);\n",
        "    for(i=0; i<n; i++)\n",
        "    {\n",
        "        for(j=0; j<n; j++)\n",
        "        {\n",
        "            fread(&A[i][j], sizeof(float), 1, input);\n",
        "        }\n",
        "    }\n",
        "    for(i=0; i<n; i++)\n",
        "    {\n",
        "        fread(&B[i], sizeof(float), 1, input);\n",
        "    }\n",
        "\n",
        "\n",
        "   for (int i = 0; i < n; i++)\n",
        "\t{\n",
        "\t\t// Upper Triangular\n",
        "\t\tfor (int k = i; k < n; k++)\n",
        "\t\t{\n",
        "\t\t\t// Summation of L(i, j) * U(j, k)\n",
        "\t\t\tint sum = 0;\n",
        "\t\t\tfor (int j = 0; j < i; j++)\n",
        "\t\t\t\tsum += (L[i][j] * U[j][k]);\n",
        "\n",
        "\t\t\t// Evaluating U(i, k)\n",
        "\t\t\tU[i][k] = A[i][k] - sum;\n",
        "\t\t}\n",
        "\n",
        "\t\t// Lower Triangular\n",
        "\t\tfor (int k = i; k < n; k++)\n",
        "\t\t{\n",
        "\t\t\tif (i == k)\n",
        "\t       L[i][i] = 1; // Diagonal as 1\n",
        "\t\t\telse\n",
        "\t\t\t{\n",
        "\t\t\t\t// Summation of L(k, j) * U(j, i)\n",
        "\t\t\t\tint sum = 0;\n",
        "\t\t\t\tfor (int j = 0; j < i; j++)\n",
        "\t\t\t\t\tsum += (L[k][j] * U[j][i]);\n",
        "\n",
        "\t\t\t\t// Evaluating L(k, i)\n",
        "\t\t\t\tL[k][i]\n",
        "\t\t\t\t\t= (A[k][i] - sum) / U[i][i];\n",
        "\t\t\t}\n",
        "\t\t}\n",
        "\t}\n",
        "    printf(\"[L]: \\n\");\n",
        "    for(i=0; i<n; i++)\n",
        "    {\n",
        "        for(j=0; j<n; j++)\n",
        "            printf(\"%9.3f\",L[i][j]);\n",
        "        printf(\"\\n\");\n",
        "    }\n",
        "    printf(\"\\n\\n[U]: \\n\");\n",
        "    for(i=0; i<n; i++)\n",
        "    {\n",
        "        for(j=0; j<n; j++)\n",
        "            printf(\"%9.3f\",U[i][j]);\n",
        "        printf(\"\\n\");\n",
        "    }\n",
        "    for(i=0; i<n; i++)\n",
        "    {\n",
        "        Y[i]=B[i];\n",
        "        for(j=0; j<i; j++)\n",
        "        {\n",
        "            Y[i]-=L[i][j]*Y[j];\n",
        "        }\n",
        "    }\n",
        "    printf(\"\\n\\n[Y]: \\n\");\n",
        "    for(i=0; i<n; i++)\n",
        "    {\n",
        "        printf(\"%9.3f\",Y[i]);\n",
        "    }\n",
        "    for(i=n-1; i>=0; i--)\n",
        "    {\n",
        "        X[i]= Y[i];\n",
        "        for(j=i+1; j<n; j++)\n",
        "        {\n",
        "            X[i]-=U[i][j]*X[j];\n",
        "        }\n",
        "        X[i]/=U[i][i];\n",
        "    }\n",
        "    printf(\"\\n\\n[X]: \\n\");\n",
        "    for(i=0; i<n; i++)\n",
        "    {\n",
        "        printf(\"%9.3f\",X[i]);\n",
        "        fwrite(&X[i],sizeof(X[i]),1,output);\n",
        "    }\n",
        "    fclose(input);\n",
        "    fclose(output);\n",
        "}"
      ],
      "metadata": {
        "colab": {
          "base_uri": "https://localhost:8080/"
        },
        "id": "GEQg2Lpc1SnH",
        "outputId": "07635520-2eb0-4133-ffd0-beb6c87a6cb0"
      },
      "execution_count": 3,
      "outputs": [
        {
          "output_type": "stream",
          "name": "stdout",
          "text": [
            "Writing LU_decomposition.c\n"
          ]
        }
      ]
    },
    {
      "cell_type": "code",
      "source": [
        "%%shell\n",
        "gcc LU_decomposition.c -o answer\n",
        "./answer"
      ],
      "metadata": {
        "colab": {
          "base_uri": "https://localhost:8080/"
        },
        "id": "Y1T6nUPh1Wvc",
        "outputId": "82daede0-b1b3-46f7-f3ed-0952c570a430"
      },
      "execution_count": 4,
      "outputs": [
        {
          "output_type": "stream",
          "name": "stdout",
          "text": [
            "Enter the order of square matrix: 3\n",
            "[L]: \n",
            "    1.000    0.000    0.000\n",
            "    0.500    1.000    0.000\n",
            "    0.750    0.250    1.000\n",
            "\n",
            "\n",
            "[U]: \n",
            "   12.000    3.000    1.000\n",
            "    0.000   44.000    8.000\n",
            "   -0.000    0.000    8.000\n",
            "\n",
            "\n",
            "[Y]: \n",
            "    1.000    1.500    1.875\n",
            "\n",
            "[X]: \n",
            "    0.066   -0.009    0.234"
          ]
        },
        {
          "output_type": "execute_result",
          "data": {
            "text/plain": [
              ""
            ]
          },
          "metadata": {},
          "execution_count": 4
        }
      ]
    }
  ]
}